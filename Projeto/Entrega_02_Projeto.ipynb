{
  "nbformat": 4,
  "nbformat_minor": 0,
  "metadata": {
    "colab": {
      "name": "Entrega_02_Projeto.ipynb",
      "provenance": []
    },
    "kernelspec": {
      "name": "python3",
      "display_name": "Python 3"
    }
  },
  "cells": [
    {
      "cell_type": "markdown",
      "metadata": {
        "id": "npXIqzbYSBvb"
      },
      "source": [
        "Exercício 01"
      ]
    },
    {
      "cell_type": "markdown",
      "metadata": {
        "id": "8Mpok7GGSz8T"
      },
      "source": [
        "(A) Alterem a proporção teste/treinamento usada no experimento e veja o efeito\n",
        "disso nas avaliações do modelo; mexa no trecho t(X, y, test_size=0.25):\n",
        "\n",
        "• 0.25 (é o que está sendo usado, que significa que 75% dos dados são usados para treinamento e 25% para avaliação).\n",
        "\n",
        "• 0.10 (90% dos dados são usados para treinamento e 10% para\n",
        "avaliação).\n",
        "\n",
        "• 0.50 (50% dos dados são usados para treinamento e 50% para\n",
        "avaliação).\n",
        "\n",
        "• 0.75 (25% dos dados são usados para treinamento e 75% para\n",
        "avaliação).\n",
        "\n",
        "• 0.90 (10% dos dados são usados para treinamento e 90% para\n",
        "avaliação)."
      ]
    },
    {
      "cell_type": "code",
      "metadata": {
        "id": "yueGOuDFR2G5",
        "outputId": "018052a4-589d-49ff-a28b-04340d5c6bcd",
        "colab": {
          "base_uri": "https://localhost:8080/",
          "height": 153
        }
      },
      "source": [
        "from sklearn.datasets import load_iris\n",
        "from sklearn.model_selection import train_test_split\n",
        "from sklearn import tree\n",
        "import pandas as pd\n",
        "\n",
        "iris = load_iris()\n",
        "\n",
        "X_train, X_test, y_train, y_test = train_test_split(iris.data, iris\n",
        ".target, test_size=0.25)\n",
        "\n",
        "clf = tree.DecisionTreeClassifier(criterion='entropy', max_depth=3)\n",
        "clf = clf.fit(X_train, y_train)\n",
        "predictions = clf.predict(X_test)\n",
        "\n",
        "print(\"\\nMatriz de confusão detalhada:\\n\",\n",
        "pd.crosstab(y_test, predictions, rownames=['Real'], colnames=\n",
        "['Predito'],\n",
        "margins=True, margins_name='Todos'))\n",
        "\n",
        "'''Comentário: A matriz de confusão conseguiu identificar 2 erros no dataset.'''"
      ],
      "execution_count": null,
      "outputs": [
        {
          "output_type": "stream",
          "text": [
            "\n",
            "Matriz de confusão detalhada:\n",
            " Predito   0   1   2  Todos\n",
            "Real                      \n",
            "0        11   0   0     11\n",
            "1         0  11   1     12\n",
            "2         0   1  14     15\n",
            "Todos    11  12  15     38\n"
          ],
          "name": "stdout"
        }
      ]
    },
    {
      "cell_type": "code",
      "metadata": {
        "id": "6Y2JbKloOp_D",
        "outputId": "0515aa65-1272-4a08-c59d-b4e3e8324844",
        "colab": {
          "base_uri": "https://localhost:8080/",
          "height": 153
        }
      },
      "source": [
        "from sklearn.datasets import load_iris\n",
        "from sklearn.model_selection import train_test_split\n",
        "from sklearn import tree\n",
        "import pandas as pd\n",
        "\n",
        "iris = load_iris()\n",
        "\n",
        "X_train, X_test, y_train, y_test = train_test_split(iris.data, iris\n",
        ".target, test_size=0.10)\n",
        "\n",
        "clf = tree.DecisionTreeClassifier(criterion='entropy', max_depth=3)\n",
        "clf = clf.fit(X_train, y_train)\n",
        "predictions = clf.predict(X_test)\n",
        "\n",
        "print(\"\\nMatriz de confusão detalhada:\\n\",\n",
        "pd.crosstab(y_test, predictions, rownames=['Real'], colnames=\n",
        "['Predito'],\n",
        "margins=True, margins_name='Todos'))\n",
        "\n",
        "'''Comentário: Não foi identificado nenhuma divergência após a execução da matriz e \n",
        "após a redução da proporção dos testes para 10% a volumetria do dataset diminuiu. '''"
      ],
      "execution_count": null,
      "outputs": [
        {
          "output_type": "stream",
          "text": [
            "\n",
            "Matriz de confusão detalhada:\n",
            " Predito  0  1  2  Todos\n",
            "Real                   \n",
            "0        3  0  0      3\n",
            "1        0  4  0      4\n",
            "2        0  0  8      8\n",
            "Todos    3  4  8     15\n"
          ],
          "name": "stdout"
        }
      ]
    },
    {
      "cell_type": "code",
      "metadata": {
        "id": "OdN0OGbYRSP1",
        "outputId": "f9708fac-93e3-49e6-a11b-ad603e172a99",
        "colab": {
          "base_uri": "https://localhost:8080/",
          "height": 153
        }
      },
      "source": [
        "from sklearn.datasets import load_iris\n",
        "from sklearn.model_selection import train_test_split\n",
        "from sklearn import tree\n",
        "import pandas as pd\n",
        "\n",
        "iris = load_iris()\n",
        "\n",
        "X_train, X_test, y_train, y_test = train_test_split(iris.data, iris\n",
        ".target, test_size=0.50)\n",
        "\n",
        "clf = tree.DecisionTreeClassifier(criterion='entropy', max_depth=3)\n",
        "clf = clf.fit(X_train, y_train)\n",
        "predictions = clf.predict(X_test)\n",
        "\n",
        "print(\"\\nMatriz de confusão detalhada:\\n\",\n",
        "pd.crosstab(y_test, predictions, rownames=['Real'], colnames=\n",
        "['Predito'],\n",
        "margins=True, margins_name='Todos'))\n",
        "\n",
        "'''Comentário: Foram identificados 5 divergências após o resultado da matriz de confusão \n",
        "e ocorreu um aumento na volumetria dos dados após aumentar para 50% os testes. '''"
      ],
      "execution_count": null,
      "outputs": [
        {
          "output_type": "stream",
          "text": [
            "\n",
            "Matriz de confusão detalhada:\n",
            " Predito   0   1   2  Todos\n",
            "Real                      \n",
            "0        28   0   0     28\n",
            "1         0  21   2     23\n",
            "2         0   3  21     24\n",
            "Todos    28  24  23     75\n"
          ],
          "name": "stdout"
        }
      ]
    },
    {
      "cell_type": "code",
      "metadata": {
        "id": "9nwOHcEXRvDO",
        "outputId": "dc1efe84-c7f9-4ff8-c471-bf5cdee37f91",
        "colab": {
          "base_uri": "https://localhost:8080/",
          "height": 153
        }
      },
      "source": [
        "from sklearn.datasets import load_iris\n",
        "from sklearn.model_selection import train_test_split\n",
        "from sklearn import tree\n",
        "import pandas as pd\n",
        "\n",
        "iris = load_iris()\n",
        "\n",
        "X_train, X_test, y_train, y_test = train_test_split(iris.data, iris\n",
        ".target, test_size=0.75)\n",
        "\n",
        "clf = tree.DecisionTreeClassifier(criterion='entropy', max_depth=3)\n",
        "clf = clf.fit(X_train, y_train)\n",
        "predictions = clf.predict(X_test)\n",
        "\n",
        "print(\"\\nMatriz de confusão detalhada:\\n\",\n",
        "pd.crosstab(y_test, predictions, rownames=['Real'], colnames=\n",
        "['Predito'],\n",
        "margins=True, margins_name='Todos'))\n",
        "\n",
        "'''Comentário: Teve aumento no total da volumetria e houveram 7 divergências. '''"
      ],
      "execution_count": null,
      "outputs": [
        {
          "output_type": "stream",
          "text": [
            "\n",
            "Matriz de confusão detalhada:\n",
            " Predito   0   1   2  Todos\n",
            "Real                      \n",
            "0        36   0   0     36\n",
            "1         0  34   6     40\n",
            "2         0   1  36     37\n",
            "Todos    36  35  42    113\n"
          ],
          "name": "stdout"
        }
      ]
    },
    {
      "cell_type": "code",
      "metadata": {
        "id": "JtadDrthRyRJ",
        "outputId": "843322bc-1f9e-4b12-c07c-181f811ae7c3",
        "colab": {
          "base_uri": "https://localhost:8080/",
          "height": 153
        }
      },
      "source": [
        "from sklearn.datasets import load_iris\n",
        "from sklearn.model_selection import train_test_split\n",
        "from sklearn import tree\n",
        "import pandas as pd\n",
        "\n",
        "iris = load_iris()\n",
        "\n",
        "X_train, X_test, y_train, y_test = train_test_split(iris.data, iris\n",
        ".target, test_size=0.90)\n",
        "\n",
        "clf = tree.DecisionTreeClassifier(criterion='entropy', max_depth=3)\n",
        "clf = clf.fit(X_train, y_train)\n",
        "predictions = clf.predict(X_test)\n",
        "\n",
        "print(\"\\nMatriz de confusão detalhada:\\n\",\n",
        "pd.crosstab(y_test, predictions, rownames=['Real'], colnames=\n",
        "['Predito'],\n",
        "margins=True, margins_name='Todos'))\n",
        "\n",
        "'''Comentário: Aumento na volumetria e total do dataset e consequentemente aumento nas divergências após \n",
        "a execução da matriz de confusão.'''"
      ],
      "execution_count": null,
      "outputs": [
        {
          "output_type": "stream",
          "text": [
            "\n",
            "Matriz de confusão detalhada:\n",
            " Predito   0   1   2  Todos\n",
            "Real                      \n",
            "0        33  10   0     43\n",
            "1         5  35   4     44\n",
            "2         1   2  45     48\n",
            "Todos    39  47  49    135\n"
          ],
          "name": "stdout"
        }
      ]
    },
    {
      "cell_type": "markdown",
      "metadata": {
        "id": "yBM216Y2R8J9"
      },
      "source": [
        "(B) Alterem o número de níveis da árvore, mexendo no trecho clf =\n",
        "tree.DecisionTreeClassifier(criterion='entropy', max_depth=3:\n",
        "\n",
        "• 3 (é o que está sendo usado, ou seja, 3 níveis na árvore).\n",
        "\n",
        "• 1 (1 nível na árvore).\n",
        "\n",
        "• 2 (2 níveis na árvore).\n",
        "\n",
        "• 4 (4 níveis na árvore).\n",
        "\n",
        "• ilimitado; retire este parâmetro."
      ]
    },
    {
      "cell_type": "code",
      "metadata": {
        "id": "4nv3CK-gR-XQ",
        "outputId": "1b1afe04-7cb3-4efa-a1a3-5154783c6345",
        "colab": {
          "base_uri": "https://localhost:8080/",
          "height": 153
        }
      },
      "source": [
        "from sklearn.datasets import load_iris\n",
        "from sklearn.model_selection import train_test_split\n",
        "from sklearn import tree\n",
        "import pandas as pd\n",
        "\n",
        "iris = load_iris()\n",
        "\n",
        "X_train, X_test, y_train, y_test = train_test_split(iris.data, iris\n",
        ".target, test_size=0.25)\n",
        "\n",
        "clf = tree.DecisionTreeClassifier(criterion='entropy', max_depth=3)\n",
        "clf = clf.fit(X_train, y_train)\n",
        "predictions = clf.predict(X_test)\n",
        "\n",
        "print(\"\\nMatriz de confusão detalhada:\\n\",\n",
        "pd.crosstab(y_test, predictions, rownames=['Real'], colnames=\n",
        "['Predito'],\n",
        "margins=True, margins_name='Todos'))"
      ],
      "execution_count": null,
      "outputs": [
        {
          "output_type": "stream",
          "text": [
            "\n",
            "Matriz de confusão detalhada:\n",
            " Predito   0  1   2  Todos\n",
            "Real                     \n",
            "0        16  0   0     16\n",
            "1         0  7   4     11\n",
            "2         0  0  11     11\n",
            "Todos    16  7  15     38\n"
          ],
          "name": "stdout"
        }
      ]
    },
    {
      "cell_type": "code",
      "metadata": {
        "id": "O_jB0vYTSSem",
        "outputId": "5d7743e5-a205-4869-91f7-d6d40dc48c03",
        "colab": {
          "base_uri": "https://localhost:8080/",
          "height": 153
        }
      },
      "source": [
        "from sklearn.datasets import load_iris\n",
        "from sklearn.model_selection import train_test_split\n",
        "from sklearn import tree\n",
        "import pandas as pd\n",
        "\n",
        "iris = load_iris()\n",
        "\n",
        "X_train, X_test, y_train, y_test = train_test_split(iris.data, iris\n",
        ".target, test_size=0.25)\n",
        "\n",
        "clf = tree.DecisionTreeClassifier(criterion='entropy', max_depth=1)\n",
        "clf = clf.fit(X_train, y_train)\n",
        "predictions = clf.predict(X_test)\n",
        "\n",
        "print(\"\\nMatriz de confusão detalhada:\\n\",\n",
        "pd.crosstab(y_test, predictions, rownames=['Real'], colnames=\n",
        "['Predito'],\n",
        "margins=True, margins_name='Todos'))"
      ],
      "execution_count": null,
      "outputs": [
        {
          "output_type": "stream",
          "text": [
            "\n",
            "Matriz de confusão detalhada:\n",
            " Predito   0   1  Todos\n",
            "Real                  \n",
            "0        11   0     11\n",
            "1         0  12     12\n",
            "2         0  15     15\n",
            "Todos    11  27     38\n"
          ],
          "name": "stdout"
        }
      ]
    },
    {
      "cell_type": "code",
      "metadata": {
        "id": "fQfzTvRESeND",
        "outputId": "afbebdb0-5b38-473f-d5c4-779d676e1dca",
        "colab": {
          "base_uri": "https://localhost:8080/",
          "height": 153
        }
      },
      "source": [
        "from sklearn.datasets import load_iris\n",
        "from sklearn.model_selection import train_test_split\n",
        "from sklearn import tree\n",
        "import pandas as pd\n",
        "\n",
        "iris = load_iris()\n",
        "\n",
        "X_train, X_test, y_train, y_test = train_test_split(iris.data, iris\n",
        ".target, test_size=0.25)\n",
        "\n",
        "clf = tree.DecisionTreeClassifier(criterion='entropy', max_depth=2)\n",
        "clf = clf.fit(X_train, y_train)\n",
        "predictions = clf.predict(X_test)\n",
        "\n",
        "print(\"\\nMatriz de confusão detalhada:\\n\",\n",
        "pd.crosstab(y_test, predictions, rownames=['Real'], colnames=\n",
        "['Predito'],\n",
        "margins=True, margins_name='Todos'))"
      ],
      "execution_count": null,
      "outputs": [
        {
          "output_type": "stream",
          "text": [
            "\n",
            "Matriz de confusão detalhada:\n",
            " Predito   0   1   2  Todos\n",
            "Real                      \n",
            "0        13   0   0     13\n",
            "1         0  13   0     13\n",
            "2         0   2  10     12\n",
            "Todos    13  15  10     38\n"
          ],
          "name": "stdout"
        }
      ]
    },
    {
      "cell_type": "code",
      "metadata": {
        "id": "6BM3wwpoSg0b",
        "outputId": "03eee5e8-323b-4d40-bfe0-1ffafb7f66a4",
        "colab": {
          "base_uri": "https://localhost:8080/",
          "height": 153
        }
      },
      "source": [
        "from sklearn.datasets import load_iris\n",
        "from sklearn.model_selection import train_test_split\n",
        "from sklearn import tree\n",
        "import pandas as pd\n",
        "\n",
        "iris = load_iris()\n",
        "\n",
        "X_train, X_test, y_train, y_test = train_test_split(iris.data, iris\n",
        ".target, test_size=0.25)\n",
        "\n",
        "clf = tree.DecisionTreeClassifier(criterion='entropy', max_depth=4)\n",
        "clf = clf.fit(X_train, y_train)\n",
        "predictions = clf.predict(X_test)\n",
        "\n",
        "print(\"\\nMatriz de confusão detalhada:\\n\",\n",
        "pd.crosstab(y_test, predictions, rownames=['Real'], colnames=\n",
        "['Predito'],\n",
        "margins=True, margins_name='Todos'))"
      ],
      "execution_count": null,
      "outputs": [
        {
          "output_type": "stream",
          "text": [
            "\n",
            "Matriz de confusão detalhada:\n",
            " Predito   0   1   2  Todos\n",
            "Real                      \n",
            "0        12   0   0     12\n",
            "1         0  10   2     12\n",
            "2         0   1  13     14\n",
            "Todos    12  11  15     38\n"
          ],
          "name": "stdout"
        }
      ]
    },
    {
      "cell_type": "code",
      "metadata": {
        "id": "ofSBwBPdSjr-",
        "outputId": "bcd88d7c-55e5-4f9b-e818-59449e3d803e",
        "colab": {
          "base_uri": "https://localhost:8080/",
          "height": 153
        }
      },
      "source": [
        "from sklearn.datasets import load_iris\n",
        "from sklearn.model_selection import train_test_split\n",
        "from sklearn import tree\n",
        "import pandas as pd\n",
        "\n",
        "iris = load_iris()\n",
        "\n",
        "X_train, X_test, y_train, y_test = train_test_split(iris.data, iris\n",
        ".target, test_size=0.25)\n",
        "\n",
        "clf = tree.DecisionTreeClassifier(criterion='entropy')\n",
        "clf = clf.fit(X_train, y_train)\n",
        "predictions = clf.predict(X_test)\n",
        "\n",
        "print(\"\\nMatriz de confusão detalhada:\\n\",\n",
        "pd.crosstab(y_test, predictions, rownames=['Real'], colnames=\n",
        "['Predito'],\n",
        "margins=True, margins_name='Todos'))"
      ],
      "execution_count": null,
      "outputs": [
        {
          "output_type": "stream",
          "text": [
            "\n",
            "Matriz de confusão detalhada:\n",
            " Predito   0   1   2  Todos\n",
            "Real                      \n",
            "0        11   0   0     11\n",
            "1         0  14   2     16\n",
            "2         0   1  10     11\n",
            "Todos    11  15  12     38\n"
          ],
          "name": "stdout"
        }
      ]
    },
    {
      "cell_type": "markdown",
      "metadata": {
        "id": "nP8YbHA4S7TN"
      },
      "source": [
        "Exercício 02 - \n",
        "\n",
        "Agora vamos usar um conjunto de dados sobre Câncer de Mama, que tem várias\n",
        "características de tumores com uma classe indicando se o mesmo é maligno ou\n",
        "benigno. O objetivo deste experimento é criar um modelo em Árvore de Decisão\n",
        "que possa, com base em valores destes atributos, prever a malignidade de\n",
        "tumores não vistos antes. Repita todos os passos do experimento acima com a\n",
        "base breast_cancer (veja trecho de código abaixo)"
      ]
    },
    {
      "cell_type": "code",
      "metadata": {
        "id": "2Upwq-AkTI0p",
        "outputId": "5cd229d8-8667-4831-81b7-63337147d690",
        "colab": {
          "base_uri": "https://localhost:8080/",
          "height": 136
        }
      },
      "source": [
        "from sklearn.datasets import load_breast_cancer\n",
        "from sklearn.model_selection import train_test_split\n",
        "from sklearn import tree\n",
        "import pandas as pd\n",
        "\n",
        "cancer = load_breast_cancer()\n",
        "\n",
        "X_train, X_test, y_train, y_test = train_test_split(cancer.data, cancer\n",
        ".target, test_size=0.25)\n",
        "\n",
        "clf = tree.DecisionTreeClassifier(criterion='entropy', max_depth=3)\n",
        "clf = clf.fit(X_train, y_train)\n",
        "predictions = clf.predict(X_test)\n",
        "\n",
        "print(\"\\nMatriz de confusão detalhada:\\n\",\n",
        "pd.crosstab(y_test, predictions, rownames=['Real'], colnames=\n",
        "['Predito'],\n",
        "margins=True, margins_name='Todos'))"
      ],
      "execution_count": null,
      "outputs": [
        {
          "output_type": "stream",
          "text": [
            "\n",
            "Matriz de confusão detalhada:\n",
            " Predito   0   1  Todos\n",
            "Real                  \n",
            "0        58   3     61\n",
            "1         1  81     82\n",
            "Todos    59  84    143\n"
          ],
          "name": "stdout"
        }
      ]
    },
    {
      "cell_type": "markdown",
      "metadata": {
        "id": "vdRi4QmZdR3u"
      },
      "source": [
        "Exercício 03 - \n",
        "\n",
        "Usar o algoritmo da árvore de decisão na base de dados do projeto. Dica:\n",
        "\n",
        "https://itnext.io/learning-data-science-predict-adult-income-with-decision-tree-\n",
        "ae8dd57a76cc"
      ]
    },
    {
      "cell_type": "code",
      "metadata": {
        "id": "vrBwKN24dUvi",
        "outputId": "1dfc8e38-8393-4439-86de-adfc179515d4",
        "colab": {
          "base_uri": "https://localhost:8080/",
          "height": 374
        }
      },
      "source": [
        "import pandas as pd\n",
        "import numpy as np\n",
        "from sklearn import tree\n",
        "import graphviz\n",
        "from sklearn.model_selection import cross_val_score\n",
        "\n",
        "# Load dataset \n",
        "df = pd.read_csv('census.csv', sep=',')\n",
        "len(df) # 32561\n",
        "\n",
        "# Remove invalid data from table\n",
        "df = df[(df.astype(str) != ' ?').all(axis=1)]\n",
        "\n",
        "len(df) # 30162\n",
        "\n",
        "df['income_bi'] = df.apply(lambda row: 1 if '>50K'in row['income'] else 0, axis=1)\n",
        "df = df.drop(['income','final.weight','capital.gain','capital.loos'], axis=1)\n",
        "df.head()\n",
        "\n",
        "# # Use one-hot encoding on categorial columns\n",
        "df = pd.get_dummies(df, columns=['workclass', 'education', 'marital.status', 'occupation', \n",
        "                                 'relationship', 'race', 'sex','native.country'])\n",
        "# shuffle rows\n",
        "df = df.sample(frac=1)\n",
        "# split training and testing data\n",
        "d_train = df[:25000]\n",
        "d_test = df[25000:]\n",
        "d_train_att = d_train.drop(['income_bi'], axis=1)\n",
        "d_train_gt50 = d_train['income_bi']\n",
        "d_test_att = d_test.drop(['income_bi'], axis=1)\n",
        "d_test_gt50 = d_test['income_bi']\n",
        "d_att = df.drop(['income_bi'], axis=1)\n",
        "d_gt50 = df['income_bi']\n",
        "# number of income > 50K in whole dataset:\n",
        "print(\"Income >50K: %d out of %d (%.2f%%)\" % (np.sum(d_gt50), len(d_gt50), 100*float(np.sum(d_gt50)) / len(d_gt50)))\n",
        "# Income >50K: 7508 out of 30162 (24.89%)\n",
        "\n",
        "# Fit a decision tree\n",
        "t = tree.DecisionTreeClassifier(criterion='entropy', max_depth=7)\n",
        "t = t.fit(d_train_att, d_train_gt50)\n",
        "\n",
        "# Visualize tree\n",
        "dot_data = tree.export_graphviz(t, out_file=None, label='all', impurity=False, proportion=True, \n",
        "                               feature_names=list(d_train_att), class_names=['lt50K', 'gt50K'],\n",
        "                               filled=True, rounded=True)\n",
        "graph = graphviz.Source(dot_data)\n",
        "graph\n",
        "\n",
        "t.score(d_test_att, d_test_gt50)\n",
        "# 0.820030995738086\n",
        "\n",
        "scores = cross_val_score(t, d_att, d_gt50, cv=5)\n",
        "# Show avarage score and +/- two standard deviations away (covering 95% or scores)\n",
        "print('Accuracy: %0.2f (+/- %0.2f)' % (scores.mean(), scores.std()*2))\n",
        "# Accuracy: 0.83 (+/- 0.00)\n",
        "\n",
        "# Create a sample csv for prediction\n",
        "df.iloc[[0]].to_csv('prediction.csv', sep=',', encoding='utf-8', index=False)\n",
        "\n",
        "# Prepare user profile\n",
        "sample_df = pd.read_csv('prediction.csv', sep=',')\n",
        "sample_df = sample_df.drop(['income_bi'], axis=1)\n",
        "# Start predicting \n",
        "predict_value = sample_df.iloc[0]\n",
        "y_predict = t.predict([predict_value.tolist()])\n",
        "y_predict[0] #0\n",
        "\n",
        "for max_depth in range(1, 20):\n",
        "    t = tree.DecisionTreeClassifier(criterion='entropy', max_depth=max_depth)\n",
        "    scores = cross_val_score(t, d_att, d_gt50, cv=5)\n",
        "    print(\"Max depth: %d, Accuracy: %0.2f (+/- %0.2f)\" % (max_depth, scores.mean(), scores.std()*2))"
      ],
      "execution_count": 2,
      "outputs": [
        {
          "output_type": "stream",
          "text": [
            "Income >50K: 7508 out of 30162 (24.89%)\n",
            "Accuracy: 0.83 (+/- 0.01)\n",
            "Max depth: 1, Accuracy: 0.75 (+/- 0.00)\n",
            "Max depth: 2, Accuracy: 0.82 (+/- 0.01)\n",
            "Max depth: 3, Accuracy: 0.82 (+/- 0.01)\n",
            "Max depth: 4, Accuracy: 0.82 (+/- 0.01)\n",
            "Max depth: 5, Accuracy: 0.82 (+/- 0.01)\n",
            "Max depth: 6, Accuracy: 0.82 (+/- 0.01)\n",
            "Max depth: 7, Accuracy: 0.83 (+/- 0.01)\n",
            "Max depth: 8, Accuracy: 0.83 (+/- 0.00)\n",
            "Max depth: 9, Accuracy: 0.83 (+/- 0.01)\n",
            "Max depth: 10, Accuracy: 0.83 (+/- 0.00)\n",
            "Max depth: 11, Accuracy: 0.82 (+/- 0.00)\n",
            "Max depth: 12, Accuracy: 0.82 (+/- 0.01)\n",
            "Max depth: 13, Accuracy: 0.82 (+/- 0.01)\n",
            "Max depth: 14, Accuracy: 0.81 (+/- 0.01)\n",
            "Max depth: 15, Accuracy: 0.81 (+/- 0.01)\n",
            "Max depth: 16, Accuracy: 0.80 (+/- 0.01)\n",
            "Max depth: 17, Accuracy: 0.80 (+/- 0.01)\n",
            "Max depth: 18, Accuracy: 0.80 (+/- 0.01)\n",
            "Max depth: 19, Accuracy: 0.80 (+/- 0.01)\n"
          ],
          "name": "stdout"
        }
      ]
    }
  ]
}