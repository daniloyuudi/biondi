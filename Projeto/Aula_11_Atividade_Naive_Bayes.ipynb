{
 "cells": [
  {
   "cell_type": "markdown",
   "metadata": {
    "id": "6oPKU1RVNbpK"
   },
   "source": [
    "Henrique Olo Bardeja\n",
    "81815270\n",
    "\n",
    "Gabriel cardoso da silva\n",
    "818136132\n",
    "\n",
    "Iuri Moura da Silva\n",
    "818143167\n",
    "\n",
    "Wagner Alves de Melo \n",
    "818137692\n",
    "\n",
    "Lucas Venceslau dos Santos Soares\n",
    "818221111\n",
    "\n",
    "Danilo Yuudi Hirata\n",
    "819228171"
   ]
  },
  {
   "cell_type": "markdown",
   "metadata": {
    "id": "VtKppZ7aNCv-"
   },
   "source": [
    "**Atividade 01**\n",
    "\n",
    "No dataset simples criado pelo grupo na atividade 1 da aula de KNN, aplique a técnica de Naive Bayes, compare com os resultados obtidos com a técnica de KNN e comente as conclusões."
   ]
  },
  {
   "cell_type": "code",
   "execution_count": 1,
   "metadata": {
    "colab": {
     "base_uri": "https://localhost:8080/",
     "height": 103
    },
    "id": "6tFjCMxoJtG-",
    "outputId": "ae38bff1-dde2-4b27-dbb4-35e5442f72b4"
   },
   "outputs": [
    {
     "name": "stdout",
     "output_type": "stream",
     "text": [
      "[1 0 2 1 2 0 0 1 1 2]\n",
      "[0 1 0 0 1 1 0 1 1 0]\n",
      "[0 0 1 1 1 0 1 0 1 1]\n",
      "[1]\n"
     ]
    },
    {
     "data": {
      "application/vnd.google.colaboratory.intrinsic+json": {
       "type": "string"
      },
      "text/plain": [
       "' Comentário: Podemos observar após vários testes que a técnica de KNN teve menos precisão nos seus resultados do que a técnica de Naive Bayes.'"
      ]
     },
     "execution_count": 1,
     "metadata": {
      "tags": []
     },
     "output_type": "execute_result"
    }
   ],
   "source": [
    "# Criar um dataset\n",
    "\n",
    "# Primeira Característica\n",
    "clima=['Ensolarado','Chuvoso','Frio','Ensolarado','Frio','Chuvoso','Chuvoso','Ensolarado','Ensolarado','Frio']\n",
    "\n",
    "# Segunda Característica\n",
    "feriado=['Prolongado','Simples','Prolongado','Prolongado','Simples','Simples','Prolongado','Simples','Simples','Prolongado']\n",
    "\n",
    "# Variavel alvo\n",
    "viajar=['Não','Não','Sim','Sim','Sim','Não','Sim','Não','Sim','Sim']\n",
    "\n",
    "# Importando LabelEncoder\n",
    "from sklearn import preprocessing\n",
    "\n",
    "#criando labelEncoder\n",
    "le = preprocessing.LabelEncoder()\n",
    "\n",
    "# Convertendo string labels para numeros.\n",
    "clima_encoded = le.fit_transform(clima)\n",
    "feriado_encoded = le.fit_transform(feriado)\n",
    "print(clima_encoded)\n",
    "print(feriado_encoded)\n",
    "\n",
    "# convertendo string labels para numeros\n",
    "alvo = le.fit_transform(viajar)\n",
    "print(alvo)\n",
    "\n",
    "# Combinando clima e feriado em um unica lista de tuplas\n",
    "carac=list(zip(clima_encoded,feriado_encoded))\n",
    "carac\n",
    "\n",
    "#Importa a biblioteca do modelo Naive Bayes Gaussiano\n",
    "from sklearn.naive_bayes import GaussianNB\n",
    "import numpy as np\n",
    "\n",
    "#Cria um classificador Gaussiano\n",
    "modelo = GaussianNB()\n",
    "\n",
    "# Treinando o modelo usando os ajustes de treinamento.\n",
    "modelo.fit(carac,alvo)\n",
    "\n",
    "#Predito\n",
    "# 1ª Caratirística:     0: Chuvoso / 1: Ensolarado / 2: Frio\n",
    "# 2ª Caracterísitca:    0: Prolongado / 1: Simples\n",
    "# Alvo:                 0: Não / 1: Sim\n",
    "predito = modelo.predict([[1,0]]) \n",
    "print(predito)\n",
    "\n",
    "''' Comentário: Podemos observar após vários testes que a técnica de KNN teve menos precisão nos seus resultados do que a técnica de Naive Bayes.'''"
   ]
  },
  {
   "cell_type": "markdown",
   "metadata": {
    "id": "rjtE5qpwNjQZ"
   },
   "source": [
    "**Atividade 02**\n",
    "\n",
    "No dataset simples criado pelo grupo na atividade 1 da aula de KNN, aplique a técnica\n",
    "de Naive Bayes com 3 tipos diferentes de classificadores (Gaussiano, Multinomial e Bernoulli),\n",
    "compare os resultados obtidos entre eles e comente as conclusões.\n"
   ]
  },
  {
   "cell_type": "code",
   "execution_count": 2,
   "metadata": {
    "colab": {
     "base_uri": "https://localhost:8080/",
     "height": 137
    },
    "id": "UHGbHs7BNmI1",
    "outputId": "b0284340-5fb7-465c-b2ef-f06bc648214b"
   },
   "outputs": [
    {
     "name": "stdout",
     "output_type": "stream",
     "text": [
      "[1 0 2 1 2 0 0 1 1 2]\n",
      "[0 1 0 0 1 1 0 1 1 0]\n",
      "[0 0 1 1 1 0 1 0 1 1]\n",
      "A acurácia do modelo 1 foi 80.0%\n",
      "A acurácia do modelo 2 foi 80.0%\n",
      "A acurácia do modelo 3 foi 80.0%\n"
     ]
    },
    {
     "data": {
      "application/vnd.google.colaboratory.intrinsic+json": {
       "type": "string"
      },
      "text/plain": [
       "' Comentário: Os 3 classificadores obtiveram a acurácia igual, então, para este tipo de aplicação os três classificadores são eficientes.'"
      ]
     },
     "execution_count": 2,
     "metadata": {
      "tags": []
     },
     "output_type": "execute_result"
    }
   ],
   "source": [
    "# Criar um dataset\n",
    "\n",
    "# Primeira Característica\n",
    "clima=['Ensolarado','Chuvoso','Frio','Ensolarado','Frio','Chuvoso','Chuvoso','Ensolarado','Ensolarado','Frio']\n",
    "\n",
    "# Segunda Característica\n",
    "feriado=['Prolongado','Simples','Prolongado','Prolongado','Simples','Simples','Prolongado','Simples','Simples','Prolongado']\n",
    "\n",
    "# Variavel alvo\n",
    "viajar=['Não','Não','Sim','Sim','Sim','Não','Sim','Não','Sim','Sim']\n",
    "\n",
    "# Importando LabelEncoder\n",
    "from sklearn import preprocessing\n",
    "\n",
    "#criando labelEncoder\n",
    "le = preprocessing.LabelEncoder()\n",
    "\n",
    "# Convertendo string labels para numeros.\n",
    "clima_encoded = le.fit_transform(clima)\n",
    "feriado_encoded = le.fit_transform(feriado)\n",
    "print(clima_encoded)\n",
    "print(feriado_encoded)\n",
    "\n",
    "# convertendo string labels para numeros\n",
    "alvo = le.fit_transform(viajar)\n",
    "print(alvo)\n",
    "\n",
    "# Combinando clima e feriado em um unica lista de tuplas\n",
    "carac=list(zip(clima_encoded,feriado_encoded))\n",
    "carac\n",
    "\n",
    "# Modelo 1 classificador Gaussiano\n",
    "from sklearn.naive_bayes import GaussianNB\n",
    "\n",
    "# instanciando o modelo\n",
    "modelo1 = GaussianNB()\n",
    "\n",
    "# treinando o modelo utilizando o conjunto de treino\n",
    "modelo1.fit(carac,alvo)\n",
    "\n",
    "# validando o modelo utilizando o conjunto de teste\n",
    "precisao1 = str(round(modelo1.score(carac,alvo) * 100, 2))+\"%\"\n",
    "\n",
    "# imprimindo o resultado\n",
    "print(\"A acurácia do modelo 1 foi\",precisao1)\n",
    "\n",
    "# Modelo 2 classificador Multinomial\n",
    "from sklearn.naive_bayes import MultinomialNB\n",
    "\n",
    "# instanciando o modelo\n",
    "modelo2 = MultinomialNB()\n",
    "\n",
    "# treinando o modelo utilizando o conjunto de treino\n",
    "modelo2.fit(carac,alvo)\n",
    "\n",
    "# validando o modelo utilizando o conjunto de teste\n",
    "precisao2 = str(round(modelo2.score(carac,alvo) * 100, 2))+\"%\"\n",
    "\n",
    "# imprimindo o resultado\n",
    "print(\"A acurácia do modelo 2 foi\",precisao2)\n",
    "\n",
    "\n",
    "# Modelo 3 classificador Bernoulli\n",
    "from sklearn.naive_bayes import BernoulliNB\n",
    "\n",
    "# instanciando o modelo\n",
    "modelo3 = BernoulliNB()\n",
    "\n",
    "# treinando o modelo utilizando o conjunto de treino\n",
    "modelo3.fit(carac,alvo)\n",
    "\n",
    "# validando o modelo utilizando o conjunto de teste\n",
    "precisao3 = str(round(modelo3.score(carac,alvo) * 100, 2))+\"%\"\n",
    "\n",
    "# imprimindo o resultado\n",
    "print(\"A acurácia do modelo 3 foi\",precisao3)\n",
    "\n",
    "''' Comentário: Os 3 classificadores obtiveram a acurácia igual, então, para este tipo de aplicação os três classificadores são eficientes.'''"
   ]
  },
  {
   "cell_type": "markdown",
   "metadata": {
    "id": "fpO5niAvPpNi"
   },
   "source": [
    "**Atividade 03**\n",
    "\n",
    "Utilize a ideia da atividade 3 e faça a comparação da média com desvio padrão e o\n",
    "histograma de acurácia para 5000 treinamentos entre o algoritmo de KNN e Naive Bayes\n",
    "aplicado no dataset do câncer de mama e no do IRIS."
   ]
  },
  {
   "cell_type": "code",
   "execution_count": 3,
   "metadata": {
    "colab": {
     "base_uri": "https://localhost:8080/",
     "height": 987
    },
    "id": "bBu9IBJaPqoD",
    "outputId": "c2c03337-d68a-47f6-914a-48d0c0e82e99"
   },
   "outputs": [
    {
     "name": "stdout",
     "output_type": "stream",
     "text": [
      "A acurácia do modelo k-NN foi 97.37%\n",
      "              precision    recall  f1-score   support\n",
      "\n",
      "           0       1.00      1.00      1.00        14\n",
      "           1       1.00      0.93      0.96        14\n",
      "           2       0.91      1.00      0.95        10\n",
      "\n",
      "    accuracy                           0.97        38\n",
      "   macro avg       0.97      0.98      0.97        38\n",
      "weighted avg       0.98      0.97      0.97        38\n",
      "\n",
      "A acurácia do modelo Naive Bayes foi 97.37%\n",
      "              precision    recall  f1-score   support\n",
      "\n",
      "           0       1.00      1.00      1.00        14\n",
      "           1       1.00      0.93      0.96        14\n",
      "           2       0.91      1.00      0.95        10\n",
      "\n",
      "    accuracy                           0.97        38\n",
      "   macro avg       0.97      0.98      0.97        38\n",
      "weighted avg       0.98      0.97      0.97        38\n",
      "\n",
      "Média do KNN: 97.32%\n",
      "Desvio padrão do KNN: 2.47%\n",
      "Média do Naive Bayes: 96.96%\n",
      "Desvio padrão do Naive Bayes: 2.51%\n"
     ]
    },
    {
     "data": {
      "image/png": "[encoded data removed]",
      "text/plain": [
       "<Figure size 432x288 with 1 Axes>"
      ]
     },
     "metadata": {
      "needs_background": "light",
      "tags": []
     },
     "output_type": "display_data"
    },
    {
     "data": {
      "image/png": "[encoded data removed]",
      "text/plain": [
       "<Figure size 432x288 with 1 Axes>"
      ]
     },
     "metadata": {
      "needs_background": "light",
      "tags": []
     },
     "output_type": "display_data"
    }
   ],
   "source": [
    "# bibliotecas\n",
    "import numpy as np\n",
    "from sklearn.datasets import load_iris\n",
    "from sklearn.datasets import load_breast_cancer\n",
    "from sklearn.model_selection import train_test_split\n",
    "\n",
    "# remover warnings\n",
    "import warnings\n",
    "warnings.filterwarnings(\"ignore\")\n",
    "\n",
    "# dataset\n",
    "iris = load_iris()\n",
    "\n",
    "# caracteristicas e alvo\n",
    "X = iris.data\n",
    "y = iris.target\n",
    "\n",
    "# treino e teste\n",
    "(X_train, X_test, y_train, y_test) = train_test_split(X,y)\n",
    "\n",
    "#Importa a biblioteca do modelo KNN\n",
    "from sklearn.neighbors import KNeighborsClassifier\n",
    "\n",
    "# instanciando o modelo\n",
    "modeloKNN = KNeighborsClassifier()\n",
    "\n",
    "# treinando o modelo utilizando o conjunto de treino\n",
    "modeloKNN.fit(X_train,y_train)\n",
    "\n",
    "# validando o modelo utilizando o conjunto de teste\n",
    "precisaoKNN = str(round(modeloKNN.score(X_test,y_test) * 100, 2))+\"%\"\n",
    "\n",
    "# imprimindo o resultado\n",
    "print(\"A acurácia do modelo k-NN foi\",precisaoKNN)\n",
    "\n",
    "# predizendo o teste\n",
    "y_pred = modeloKNN.predict(X_test)\n",
    "\n",
    "# comparando predição com o real\n",
    "from sklearn.metrics import classification_report\n",
    "print(classification_report(y_test, y_pred))\n",
    "\n",
    "#Importa a biblioteca do modelo Naive Bayes Gaussiano\n",
    "from sklearn.naive_bayes import GaussianNB\n",
    "\n",
    "#Cria um classificador Gaussiano\n",
    "modeloNB = GaussianNB()\n",
    "\n",
    "# Treinando o modelo usando os ajustes de treinamento.\n",
    "modeloNB.fit(X_train,y_train)\n",
    "\n",
    "# validando o modelo utilizando o conjunto de teste\n",
    "precisaoNB = str(round(modeloNB.score(X_test,y_test) * 100, 2))+\"%\"\n",
    "\n",
    "# imprimindo o resultado\n",
    "print(\"A acurácia do modelo Naive Bayes foi\",precisaoNB)\n",
    "\n",
    "# predizendo o teste\n",
    "y_pred = modeloNB.predict(X_test)\n",
    "\n",
    "# comparando predição com o real\n",
    "from sklearn.metrics import classification_report\n",
    "print(classification_report(y_test, y_pred))\n",
    "\n",
    "# normalizando\n",
    "from sklearn.preprocessing import Normalizer\n",
    "scaler = Normalizer()\n",
    "scaler.fit(X)\n",
    "X = scaler.transform(X)\n",
    "scoresKNN = []\n",
    "scoresNB = []\n",
    "for i in range(5000):\n",
    "  X_train, X_test, y_train, y_test = train_test_split(X,y)\n",
    "  modeloKNN = KNeighborsClassifier()\n",
    "  modeloKNN.fit(X_train,y_train)\n",
    "  precisaoKNN = modeloNB.score(X_test,y_test)\n",
    "  scoresKNN.append(precisaoKNN)\n",
    "  modeloNB = GaussianNB()\n",
    "  modeloNB.fit(X_train,y_train)\n",
    "  precisaoNB = modeloNB.score(X_test,y_test)\n",
    "  scoresNB.append(precisaoNB)\n",
    "print(\"Média do KNN: {:.2f}%\".format(np.mean(scoresKNN)*100))\n",
    "print(\"Desvio padrão do KNN: {:.2f}%\".format(np.std(scoresKNN)*100))\n",
    "print(\"Média do Naive Bayes: {:.2f}%\".format(np.mean(scoresNB)*100))\n",
    "print(\"Desvio padrão do Naive Bayes: {:.2f}%\".format(np.std(scoresNB)*100))\n",
    "import matplotlib.pyplot as plt\n",
    "import seaborn as sns\n",
    "\n",
    "sns.distplot(scoresKNN)\n",
    "plt.yticks([])\n",
    "plt.title(\"Acurácias do KNN\")\n",
    "plt.show()\n",
    "sns.distplot(scoresNB)\n",
    "plt.yticks([])\n",
    "plt.title(\"Acurácias do Naive Bayers\")\n",
    "plt.show()"
   ]
  },
  {
   "cell_type": "code",
   "execution_count": 4,
   "metadata": {
    "colab": {
     "base_uri": "https://localhost:8080/",
     "height": 953
    },
    "id": "E1ZDDIfJcpYP",
    "outputId": "19421df9-9071-4845-a84f-4730c66eb9d6"
   },
   "outputs": [
    {
     "name": "stdout",
     "output_type": "stream",
     "text": [
      "A acurácia do modelo k-NN foi 88.81%\n",
      "              precision    recall  f1-score   support\n",
      "\n",
      "           0       0.93      0.82      0.87        65\n",
      "           1       0.86      0.95      0.90        78\n",
      "\n",
      "    accuracy                           0.89       143\n",
      "   macro avg       0.90      0.88      0.89       143\n",
      "weighted avg       0.89      0.89      0.89       143\n",
      "\n",
      "A acurácia do modelo Naive Bayes foi 93.01%\n",
      "              precision    recall  f1-score   support\n",
      "\n",
      "           0       0.95      0.89      0.92        65\n",
      "           1       0.91      0.96      0.94        78\n",
      "\n",
      "    accuracy                           0.93       143\n",
      "   macro avg       0.93      0.93      0.93       143\n",
      "weighted avg       0.93      0.93      0.93       143\n",
      "\n",
      "Média do KNN: 81.89%\n",
      "Desvio padrão do KNN: 2.95%\n",
      "Média do Naive Bayes: 81.71%\n",
      "Desvio padrão do Naive Bayes: 2.99%\n"
     ]
    },
    {
     "data": {
      "image/png": "[encoded data removed]",
      "text/plain": [
       "<Figure size 432x288 with 1 Axes>"
      ]
     },
     "metadata": {
      "needs_background": "light",
      "tags": []
     },
     "output_type": "display_data"
    },
    {
     "data": {
      "image/png": "[encoded data removed]",
      "text/plain": [
       "<Figure size 432x288 with 1 Axes>"
      ]
     },
     "metadata": {
      "needs_background": "light",
      "tags": []
     },
     "output_type": "display_data"
    }
   ],
   "source": [
    "# bibliotecas\n",
    "import numpy as np\n",
    "from sklearn.datasets import load_iris\n",
    "from sklearn.datasets import load_breast_cancer\n",
    "from sklearn.model_selection import train_test_split\n",
    "\n",
    "# remover warnings\n",
    "import warnings\n",
    "warnings.filterwarnings(\"ignore\")\n",
    "\n",
    "# dataset\n",
    "cancer = load_breast_cancer()\n",
    "\n",
    "# caracteristicas e alvo\n",
    "X = cancer.data\n",
    "y = cancer.target\n",
    "\n",
    "# treino e teste\n",
    "(X_train, X_test, y_train, y_test) = train_test_split(X,y)\n",
    "\n",
    "#Importa a biblioteca do modelo KNN\n",
    "from sklearn.neighbors import KNeighborsClassifier\n",
    "\n",
    "# instanciando o modelo\n",
    "modeloKNN = KNeighborsClassifier()\n",
    "\n",
    "# treinando o modelo utilizando o conjunto de treino\n",
    "modeloKNN.fit(X_train,y_train)\n",
    "\n",
    "# validando o modelo utilizando o conjunto de teste\n",
    "precisaoKNN = str(round(modeloKNN.score(X_test,y_test) * 100, 2))+\"%\"\n",
    "\n",
    "# imprimindo o resultado\n",
    "print(\"A acurácia do modelo k-NN foi\",precisaoKNN)\n",
    "\n",
    "# predizendo o teste\n",
    "y_pred = modeloKNN.predict(X_test)\n",
    "\n",
    "# comparando predição com o real\n",
    "from sklearn.metrics import classification_report\n",
    "print(classification_report(y_test, y_pred))\n",
    "\n",
    "#Importa a biblioteca do modelo Naive Bayes Gaussiano\n",
    "from sklearn.naive_bayes import GaussianNB\n",
    "\n",
    "#Cria um classificador Gaussiano\n",
    "modeloNB = GaussianNB()\n",
    "\n",
    "# Treinando o modelo usando os ajustes de treinamento.\n",
    "modeloNB.fit(X_train,y_train)\n",
    "\n",
    "# validando o modelo utilizando o conjunto de teste\n",
    "precisaoNB = str(round(modeloNB.score(X_test,y_test) * 100, 2))+\"%\"\n",
    "\n",
    "# imprimindo o resultado\n",
    "print(\"A acurácia do modelo Naive Bayes foi\",precisaoNB)\n",
    "\n",
    "# predizendo o teste\n",
    "y_pred = modeloNB.predict(X_test)\n",
    "\n",
    "# comparando predição com o real\n",
    "from sklearn.metrics import classification_report\n",
    "print(classification_report(y_test, y_pred))\n",
    "\n",
    "# normalizando\n",
    "from sklearn.preprocessing import Normalizer\n",
    "scaler = Normalizer()\n",
    "scaler.fit(X)\n",
    "X = scaler.transform(X)\n",
    "scoresKNN = []\n",
    "scoresNB = []\n",
    "for i in range(5000):\n",
    "  X_train, X_test, y_train, y_test = train_test_split(X,y)\n",
    "  modeloKNN = KNeighborsClassifier()\n",
    "  modeloKNN.fit(X_train,y_train)\n",
    "  precisaoKNN = modeloNB.score(X_test,y_test)\n",
    "  scoresKNN.append(precisaoKNN)\n",
    "  modeloNB = GaussianNB()\n",
    "  modeloNB.fit(X_train,y_train)\n",
    "  precisaoNB = modeloNB.score(X_test,y_test)\n",
    "  scoresNB.append(precisaoNB)\n",
    "print(\"Média do KNN: {:.2f}%\".format(np.mean(scoresKNN)*100))\n",
    "print(\"Desvio padrão do KNN: {:.2f}%\".format(np.std(scoresKNN)*100))\n",
    "print(\"Média do Naive Bayes: {:.2f}%\".format(np.mean(scoresNB)*100))\n",
    "print(\"Desvio padrão do Naive Bayes: {:.2f}%\".format(np.std(scoresNB)*100))\n",
    "import matplotlib.pyplot as plt\n",
    "import seaborn as sns\n",
    "\n",
    "sns.distplot(scoresKNN)\n",
    "plt.yticks([])\n",
    "plt.title(\"Acurácias do KNN\")\n",
    "plt.show()\n",
    "sns.distplot(scoresNB)\n",
    "plt.yticks([])\n",
    "plt.title(\"Acurácias do Naive Bayers\")\n",
    "plt.show()"
   ]
  }
 ],
 "metadata": {
  "colab": {
   "name": "Aula_11_Atividade_Naive_Bayes.ipynb",
   "provenance": []
  },
  "kernelspec": {
   "display_name": "Python 3",
   "language": "python",
   "name": "python3"
  },
  "language_info": {
   "codemirror_mode": {
    "name": "ipython",
    "version": 3
   },
   "file_extension": ".py",
   "mimetype": "text/x-python",
   "name": "python",
   "nbconvert_exporter": "python",
   "pygments_lexer": "ipython3",
   "version": "3.9.0"
  }
 },
 "nbformat": 4,
 "nbformat_minor": 1
}
