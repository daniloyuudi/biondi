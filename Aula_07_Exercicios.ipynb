{
  "nbformat": 4,
  "nbformat_minor": 0,
  "metadata": {
    "colab": {
      "name": "Aula_07 - Exercicios.ipynb",
      "provenance": []
    },
    "kernelspec": {
      "name": "python3",
      "display_name": "Python 3"
    }
  },
  "cells": [
    {
      "cell_type": "markdown",
      "metadata": {
        "id": "npXIqzbYSBvb"
      },
      "source": [
        "Exercício 01"
      ]
    },
    {
      "cell_type": "markdown",
      "metadata": {
        "id": "8Mpok7GGSz8T"
      },
      "source": [
        "(A)"
      ]
    },
    {
      "cell_type": "code",
      "metadata": {
        "id": "yueGOuDFR2G5",
        "outputId": "018052a4-589d-49ff-a28b-04340d5c6bcd",
        "colab": {
          "base_uri": "https://localhost:8080/",
          "height": 153
        }
      },
      "source": [
        "from sklearn.datasets import load_iris\n",
        "from sklearn.model_selection import train_test_split\n",
        "from sklearn import tree\n",
        "import pandas as pd\n",
        "\n",
        "iris = load_iris()\n",
        "\n",
        "X_train, X_test, y_train, y_test = train_test_split(iris.data, iris\n",
        ".target, test_size=0.25)\n",
        "\n",
        "clf = tree.DecisionTreeClassifier(criterion='entropy', max_depth=3)\n",
        "clf = clf.fit(X_train, y_train)\n",
        "predictions = clf.predict(X_test)\n",
        "\n",
        "print(\"\\nMatriz de confusão detalhada:\\n\",\n",
        "pd.crosstab(y_test, predictions, rownames=['Real'], colnames=\n",
        "['Predito'],\n",
        "margins=True, margins_name='Todos'))"
      ],
      "execution_count": null,
      "outputs": [
        {
          "output_type": "stream",
          "text": [
            "\n",
            "Matriz de confusão detalhada:\n",
            " Predito   0   1   2  Todos\n",
            "Real                      \n",
            "0        11   0   0     11\n",
            "1         0  11   1     12\n",
            "2         0   1  14     15\n",
            "Todos    11  12  15     38\n"
          ],
          "name": "stdout"
        }
      ]
    },
    {
      "cell_type": "code",
      "metadata": {
        "id": "6Y2JbKloOp_D",
        "outputId": "0515aa65-1272-4a08-c59d-b4e3e8324844",
        "colab": {
          "base_uri": "https://localhost:8080/",
          "height": 153
        }
      },
      "source": [
        "from sklearn.datasets import load_iris\n",
        "from sklearn.model_selection import train_test_split\n",
        "from sklearn import tree\n",
        "import pandas as pd\n",
        "\n",
        "iris = load_iris()\n",
        "\n",
        "X_train, X_test, y_train, y_test = train_test_split(iris.data, iris\n",
        ".target, test_size=0.10)\n",
        "\n",
        "clf = tree.DecisionTreeClassifier(criterion='entropy', max_depth=3)\n",
        "clf = clf.fit(X_train, y_train)\n",
        "predictions = clf.predict(X_test)\n",
        "\n",
        "print(\"\\nMatriz de confusão detalhada:\\n\",\n",
        "pd.crosstab(y_test, predictions, rownames=['Real'], colnames=\n",
        "['Predito'],\n",
        "margins=True, margins_name='Todos'))"
      ],
      "execution_count": null,
      "outputs": [
        {
          "output_type": "stream",
          "text": [
            "\n",
            "Matriz de confusão detalhada:\n",
            " Predito  0  1  2  Todos\n",
            "Real                   \n",
            "0        3  0  0      3\n",
            "1        0  4  0      4\n",
            "2        0  0  8      8\n",
            "Todos    3  4  8     15\n"
          ],
          "name": "stdout"
        }
      ]
    },
    {
      "cell_type": "code",
      "metadata": {
        "id": "OdN0OGbYRSP1",
        "outputId": "f9708fac-93e3-49e6-a11b-ad603e172a99",
        "colab": {
          "base_uri": "https://localhost:8080/",
          "height": 153
        }
      },
      "source": [
        "from sklearn.datasets import load_iris\n",
        "from sklearn.model_selection import train_test_split\n",
        "from sklearn import tree\n",
        "import pandas as pd\n",
        "\n",
        "iris = load_iris()\n",
        "\n",
        "X_train, X_test, y_train, y_test = train_test_split(iris.data, iris\n",
        ".target, test_size=0.50)\n",
        "\n",
        "clf = tree.DecisionTreeClassifier(criterion='entropy', max_depth=3)\n",
        "clf = clf.fit(X_train, y_train)\n",
        "predictions = clf.predict(X_test)\n",
        "\n",
        "print(\"\\nMatriz de confusão detalhada:\\n\",\n",
        "pd.crosstab(y_test, predictions, rownames=['Real'], colnames=\n",
        "['Predito'],\n",
        "margins=True, margins_name='Todos'))"
      ],
      "execution_count": null,
      "outputs": [
        {
          "output_type": "stream",
          "text": [
            "\n",
            "Matriz de confusão detalhada:\n",
            " Predito   0   1   2  Todos\n",
            "Real                      \n",
            "0        28   0   0     28\n",
            "1         0  21   2     23\n",
            "2         0   3  21     24\n",
            "Todos    28  24  23     75\n"
          ],
          "name": "stdout"
        }
      ]
    },
    {
      "cell_type": "code",
      "metadata": {
        "id": "9nwOHcEXRvDO",
        "outputId": "dc1efe84-c7f9-4ff8-c471-bf5cdee37f91",
        "colab": {
          "base_uri": "https://localhost:8080/",
          "height": 153
        }
      },
      "source": [
        "from sklearn.datasets import load_iris\n",
        "from sklearn.model_selection import train_test_split\n",
        "from sklearn import tree\n",
        "import pandas as pd\n",
        "\n",
        "iris = load_iris()\n",
        "\n",
        "X_train, X_test, y_train, y_test = train_test_split(iris.data, iris\n",
        ".target, test_size=0.75)\n",
        "\n",
        "clf = tree.DecisionTreeClassifier(criterion='entropy', max_depth=3)\n",
        "clf = clf.fit(X_train, y_train)\n",
        "predictions = clf.predict(X_test)\n",
        "\n",
        "print(\"\\nMatriz de confusão detalhada:\\n\",\n",
        "pd.crosstab(y_test, predictions, rownames=['Real'], colnames=\n",
        "['Predito'],\n",
        "margins=True, margins_name='Todos'))"
      ],
      "execution_count": null,
      "outputs": [
        {
          "output_type": "stream",
          "text": [
            "\n",
            "Matriz de confusão detalhada:\n",
            " Predito   0   1   2  Todos\n",
            "Real                      \n",
            "0        36   0   0     36\n",
            "1         0  34   6     40\n",
            "2         0   1  36     37\n",
            "Todos    36  35  42    113\n"
          ],
          "name": "stdout"
        }
      ]
    },
    {
      "cell_type": "code",
      "metadata": {
        "id": "JtadDrthRyRJ",
        "outputId": "843322bc-1f9e-4b12-c07c-181f811ae7c3",
        "colab": {
          "base_uri": "https://localhost:8080/",
          "height": 153
        }
      },
      "source": [
        "from sklearn.datasets import load_iris\n",
        "from sklearn.model_selection import train_test_split\n",
        "from sklearn import tree\n",
        "import pandas as pd\n",
        "\n",
        "iris = load_iris()\n",
        "\n",
        "X_train, X_test, y_train, y_test = train_test_split(iris.data, iris\n",
        ".target, test_size=0.90)\n",
        "\n",
        "clf = tree.DecisionTreeClassifier(criterion='entropy', max_depth=3)\n",
        "clf = clf.fit(X_train, y_train)\n",
        "predictions = clf.predict(X_test)\n",
        "\n",
        "print(\"\\nMatriz de confusão detalhada:\\n\",\n",
        "pd.crosstab(y_test, predictions, rownames=['Real'], colnames=\n",
        "['Predito'],\n",
        "margins=True, margins_name='Todos'))"
      ],
      "execution_count": null,
      "outputs": [
        {
          "output_type": "stream",
          "text": [
            "\n",
            "Matriz de confusão detalhada:\n",
            " Predito   0   1   2  Todos\n",
            "Real                      \n",
            "0        33  10   0     43\n",
            "1         5  35   4     44\n",
            "2         1   2  45     48\n",
            "Todos    39  47  49    135\n"
          ],
          "name": "stdout"
        }
      ]
    },
    {
      "cell_type": "markdown",
      "metadata": {
        "id": "yBM216Y2R8J9"
      },
      "source": [
        "(B)"
      ]
    },
    {
      "cell_type": "code",
      "metadata": {
        "id": "4nv3CK-gR-XQ",
        "outputId": "1b1afe04-7cb3-4efa-a1a3-5154783c6345",
        "colab": {
          "base_uri": "https://localhost:8080/",
          "height": 153
        }
      },
      "source": [
        "from sklearn.datasets import load_iris\n",
        "from sklearn.model_selection import train_test_split\n",
        "from sklearn import tree\n",
        "import pandas as pd\n",
        "\n",
        "iris = load_iris()\n",
        "\n",
        "X_train, X_test, y_train, y_test = train_test_split(iris.data, iris\n",
        ".target, test_size=0.25)\n",
        "\n",
        "clf = tree.DecisionTreeClassifier(criterion='entropy', max_depth=3)\n",
        "clf = clf.fit(X_train, y_train)\n",
        "predictions = clf.predict(X_test)\n",
        "\n",
        "print(\"\\nMatriz de confusão detalhada:\\n\",\n",
        "pd.crosstab(y_test, predictions, rownames=['Real'], colnames=\n",
        "['Predito'],\n",
        "margins=True, margins_name='Todos'))"
      ],
      "execution_count": null,
      "outputs": [
        {
          "output_type": "stream",
          "text": [
            "\n",
            "Matriz de confusão detalhada:\n",
            " Predito   0  1   2  Todos\n",
            "Real                     \n",
            "0        16  0   0     16\n",
            "1         0  7   4     11\n",
            "2         0  0  11     11\n",
            "Todos    16  7  15     38\n"
          ],
          "name": "stdout"
        }
      ]
    },
    {
      "cell_type": "code",
      "metadata": {
        "id": "O_jB0vYTSSem",
        "outputId": "5d7743e5-a205-4869-91f7-d6d40dc48c03",
        "colab": {
          "base_uri": "https://localhost:8080/",
          "height": 153
        }
      },
      "source": [
        "from sklearn.datasets import load_iris\n",
        "from sklearn.model_selection import train_test_split\n",
        "from sklearn import tree\n",
        "import pandas as pd\n",
        "\n",
        "iris = load_iris()\n",
        "\n",
        "X_train, X_test, y_train, y_test = train_test_split(iris.data, iris\n",
        ".target, test_size=0.25)\n",
        "\n",
        "clf = tree.DecisionTreeClassifier(criterion='entropy', max_depth=1)\n",
        "clf = clf.fit(X_train, y_train)\n",
        "predictions = clf.predict(X_test)\n",
        "\n",
        "print(\"\\nMatriz de confusão detalhada:\\n\",\n",
        "pd.crosstab(y_test, predictions, rownames=['Real'], colnames=\n",
        "['Predito'],\n",
        "margins=True, margins_name='Todos'))"
      ],
      "execution_count": null,
      "outputs": [
        {
          "output_type": "stream",
          "text": [
            "\n",
            "Matriz de confusão detalhada:\n",
            " Predito   0   1  Todos\n",
            "Real                  \n",
            "0        11   0     11\n",
            "1         0  12     12\n",
            "2         0  15     15\n",
            "Todos    11  27     38\n"
          ],
          "name": "stdout"
        }
      ]
    },
    {
      "cell_type": "code",
      "metadata": {
        "id": "fQfzTvRESeND",
        "outputId": "afbebdb0-5b38-473f-d5c4-779d676e1dca",
        "colab": {
          "base_uri": "https://localhost:8080/",
          "height": 153
        }
      },
      "source": [
        "from sklearn.datasets import load_iris\n",
        "from sklearn.model_selection import train_test_split\n",
        "from sklearn import tree\n",
        "import pandas as pd\n",
        "\n",
        "iris = load_iris()\n",
        "\n",
        "X_train, X_test, y_train, y_test = train_test_split(iris.data, iris\n",
        ".target, test_size=0.25)\n",
        "\n",
        "clf = tree.DecisionTreeClassifier(criterion='entropy', max_depth=2)\n",
        "clf = clf.fit(X_train, y_train)\n",
        "predictions = clf.predict(X_test)\n",
        "\n",
        "print(\"\\nMatriz de confusão detalhada:\\n\",\n",
        "pd.crosstab(y_test, predictions, rownames=['Real'], colnames=\n",
        "['Predito'],\n",
        "margins=True, margins_name='Todos'))"
      ],
      "execution_count": null,
      "outputs": [
        {
          "output_type": "stream",
          "text": [
            "\n",
            "Matriz de confusão detalhada:\n",
            " Predito   0   1   2  Todos\n",
            "Real                      \n",
            "0        13   0   0     13\n",
            "1         0  13   0     13\n",
            "2         0   2  10     12\n",
            "Todos    13  15  10     38\n"
          ],
          "name": "stdout"
        }
      ]
    },
    {
      "cell_type": "code",
      "metadata": {
        "id": "6BM3wwpoSg0b",
        "outputId": "03eee5e8-323b-4d40-bfe0-1ffafb7f66a4",
        "colab": {
          "base_uri": "https://localhost:8080/",
          "height": 153
        }
      },
      "source": [
        "from sklearn.datasets import load_iris\n",
        "from sklearn.model_selection import train_test_split\n",
        "from sklearn import tree\n",
        "import pandas as pd\n",
        "\n",
        "iris = load_iris()\n",
        "\n",
        "X_train, X_test, y_train, y_test = train_test_split(iris.data, iris\n",
        ".target, test_size=0.25)\n",
        "\n",
        "clf = tree.DecisionTreeClassifier(criterion='entropy', max_depth=4)\n",
        "clf = clf.fit(X_train, y_train)\n",
        "predictions = clf.predict(X_test)\n",
        "\n",
        "print(\"\\nMatriz de confusão detalhada:\\n\",\n",
        "pd.crosstab(y_test, predictions, rownames=['Real'], colnames=\n",
        "['Predito'],\n",
        "margins=True, margins_name='Todos'))"
      ],
      "execution_count": null,
      "outputs": [
        {
          "output_type": "stream",
          "text": [
            "\n",
            "Matriz de confusão detalhada:\n",
            " Predito   0   1   2  Todos\n",
            "Real                      \n",
            "0        12   0   0     12\n",
            "1         0  10   2     12\n",
            "2         0   1  13     14\n",
            "Todos    12  11  15     38\n"
          ],
          "name": "stdout"
        }
      ]
    },
    {
      "cell_type": "code",
      "metadata": {
        "id": "ofSBwBPdSjr-",
        "outputId": "bcd88d7c-55e5-4f9b-e818-59449e3d803e",
        "colab": {
          "base_uri": "https://localhost:8080/",
          "height": 153
        }
      },
      "source": [
        "from sklearn.datasets import load_iris\n",
        "from sklearn.model_selection import train_test_split\n",
        "from sklearn import tree\n",
        "import pandas as pd\n",
        "\n",
        "iris = load_iris()\n",
        "\n",
        "X_train, X_test, y_train, y_test = train_test_split(iris.data, iris\n",
        ".target, test_size=0.25)\n",
        "\n",
        "clf = tree.DecisionTreeClassifier(criterion='entropy')\n",
        "clf = clf.fit(X_train, y_train)\n",
        "predictions = clf.predict(X_test)\n",
        "\n",
        "print(\"\\nMatriz de confusão detalhada:\\n\",\n",
        "pd.crosstab(y_test, predictions, rownames=['Real'], colnames=\n",
        "['Predito'],\n",
        "margins=True, margins_name='Todos'))"
      ],
      "execution_count": null,
      "outputs": [
        {
          "output_type": "stream",
          "text": [
            "\n",
            "Matriz de confusão detalhada:\n",
            " Predito   0   1   2  Todos\n",
            "Real                      \n",
            "0        11   0   0     11\n",
            "1         0  14   2     16\n",
            "2         0   1  10     11\n",
            "Todos    11  15  12     38\n"
          ],
          "name": "stdout"
        }
      ]
    },
    {
      "cell_type": "markdown",
      "metadata": {
        "id": "nP8YbHA4S7TN"
      },
      "source": [
        "Exercício 02"
      ]
    },
    {
      "cell_type": "code",
      "metadata": {
        "id": "2Upwq-AkTI0p",
        "outputId": "5cd229d8-8667-4831-81b7-63337147d690",
        "colab": {
          "base_uri": "https://localhost:8080/",
          "height": 136
        }
      },
      "source": [
        "from sklearn.datasets import load_breast_cancer\n",
        "from sklearn.model_selection import train_test_split\n",
        "from sklearn import tree\n",
        "import pandas as pd\n",
        "\n",
        "cancer = load_breast_cancer()\n",
        "\n",
        "X_train, X_test, y_train, y_test = train_test_split(cancer.data, cancer\n",
        ".target, test_size=0.25)\n",
        "\n",
        "clf = tree.DecisionTreeClassifier(criterion='entropy', max_depth=3)\n",
        "clf = clf.fit(X_train, y_train)\n",
        "predictions = clf.predict(X_test)\n",
        "\n",
        "print(\"\\nMatriz de confusão detalhada:\\n\",\n",
        "pd.crosstab(y_test, predictions, rownames=['Real'], colnames=\n",
        "['Predito'],\n",
        "margins=True, margins_name='Todos'))"
      ],
      "execution_count": null,
      "outputs": [
        {
          "output_type": "stream",
          "text": [
            "\n",
            "Matriz de confusão detalhada:\n",
            " Predito   0   1  Todos\n",
            "Real                  \n",
            "0        58   3     61\n",
            "1         1  81     82\n",
            "Todos    59  84    143\n"
          ],
          "name": "stdout"
        }
      ]
    }
  ]
}